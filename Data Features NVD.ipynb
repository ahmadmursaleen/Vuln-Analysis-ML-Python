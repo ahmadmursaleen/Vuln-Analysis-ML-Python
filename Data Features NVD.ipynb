{
 "cells": [
  {
   "cell_type": "code",
   "execution_count": 1,
   "metadata": {},
   "outputs": [],
   "source": [
    "import numpy as np\n",
    "import pandas as pd\n",
    "import warnings\n",
    "warnings.filterwarnings('ignore')"
   ]
  },
  {
   "cell_type": "code",
   "execution_count": 2,
   "metadata": {},
   "outputs": [],
   "source": [
    "dataset2018 = pd.read_json('cve-2018.json')"
   ]
  },
  {
   "cell_type": "code",
   "execution_count": 3,
   "metadata": {},
   "outputs": [
    {
     "data": {
      "text/plain": [
       "(13949, 6)"
      ]
     },
     "execution_count": 3,
     "metadata": {},
     "output_type": "execute_result"
    }
   ],
   "source": [
    "dataset2018.shape"
   ]
  },
  {
   "cell_type": "code",
   "execution_count": 4,
   "metadata": {},
   "outputs": [
    {
     "data": {
      "text/plain": [
       "array(['CVE_Items', 'CVE_data_format', 'CVE_data_numberOfCVEs',\n",
       "       'CVE_data_timestamp', 'CVE_data_type', 'CVE_data_version'],\n",
       "      dtype=object)"
      ]
     },
     "execution_count": 4,
     "metadata": {},
     "output_type": "execute_result"
    }
   ],
   "source": [
    "dataset2018.columns.values"
   ]
  },
  {
   "cell_type": "code",
   "execution_count": 5,
   "metadata": {},
   "outputs": [
    {
     "data": {
      "text/plain": [
       "{'configurations': {'CVE_data_version': '4.0',\n",
       "  'nodes': [{'cpe': [{'cpe22Uri': 'cpe:/o:microsoft:windows_10:1511',\n",
       "      'cpe23Uri': 'cpe:2.3:o:microsoft:windows_10:1511:*:*:*:*:*:*:*',\n",
       "      'vulnerable': True},\n",
       "     {'cpe22Uri': 'cpe:/o:microsoft:windows_10:1607',\n",
       "      'cpe23Uri': 'cpe:2.3:o:microsoft:windows_10:1607:*:*:*:*:*:*:*',\n",
       "      'vulnerable': True},\n",
       "     {'cpe22Uri': 'cpe:/o:microsoft:windows_server_2016:-',\n",
       "      'cpe23Uri': 'cpe:2.3:o:microsoft:windows_server_2016:-:*:*:*:*:*:*:*',\n",
       "      'vulnerable': True}],\n",
       "    'operator': 'OR'}]},\n",
       " 'cve': {'CVE_data_meta': {'ASSIGNER': 'cve@mitre.org', 'ID': 'CVE-2017-0219'},\n",
       "  'affects': {'vendor': {'vendor_data': [{'product': {'product_data': [{'product_name': 'windows_10',\n",
       "         'version': {'version_data': [{'version_value': '1511'},\n",
       "           {'version_value': '1607'}]}},\n",
       "        {'product_name': 'windows_server_2016',\n",
       "         'version': {'version_data': [{'version_value': '-'}]}}]},\n",
       "      'vendor_name': 'microsoft'}]}},\n",
       "  'data_format': 'MITRE',\n",
       "  'data_type': 'CVE',\n",
       "  'data_version': '4.0',\n",
       "  'description': {'description_data': [{'lang': 'en',\n",
       "     'value': 'Microsoft Windows 10 Gold, Windows 10 1511, Windows 10 1607, and Windows Server 2016 allow an attacker to exploit a security feature bypass vulnerability in Device Guard that could allow the attacker to inject malicious code into a Windows PowerShell session, aka \"Device Guard Code Integrity Policy Security Feature Bypass Vulnerability.\" This CVE ID is unique from CVE-2017-0173, CVE-2017-0215, CVE-2017-0216, and CVE-2017-0218.'}]},\n",
       "  'problemtype': {'problemtype_data': [{'description': [{'lang': 'en',\n",
       "       'value': 'CWE-254'}]}]},\n",
       "  'references': {'reference_data': [{'url': 'http://www.securityfocus.com/bid/98898'},\n",
       "    {'url': 'https://portal.msrc.microsoft.com/en-US/security-guidance/advisory/CVE-2017-0219'}]}},\n",
       " 'impact': {'baseMetricV2': {'cvssV2': {'accessComplexity': 'LOW',\n",
       "    'accessVector': 'LOCAL',\n",
       "    'authentication': 'NONE',\n",
       "    'availabilityImpact': 'PARTIAL',\n",
       "    'baseScore': 4.6,\n",
       "    'confidentialityImpact': 'PARTIAL',\n",
       "    'integrityImpact': 'PARTIAL',\n",
       "    'vectorString': '(AV:L/AC:L/Au:N/C:P/I:P/A:P)',\n",
       "    'version': '2.0'},\n",
       "   'exploitabilityScore': 3.9,\n",
       "   'impactScore': 6.4,\n",
       "   'obtainAllPrivilege': False,\n",
       "   'obtainOtherPrivilege': False,\n",
       "   'obtainUserPrivilege': False,\n",
       "   'severity': 'MEDIUM',\n",
       "   'userInteractionRequired': False},\n",
       "  'baseMetricV3': {'cvssV3': {'attackComplexity': 'LOW',\n",
       "    'attackVector': 'LOCAL',\n",
       "    'availabilityImpact': 'LOW',\n",
       "    'baseScore': 5.3,\n",
       "    'baseSeverity': 'MEDIUM',\n",
       "    'confidentialityImpact': 'LOW',\n",
       "    'integrityImpact': 'LOW',\n",
       "    'privilegesRequired': 'LOW',\n",
       "    'scope': 'UNCHANGED',\n",
       "    'userInteraction': 'NONE',\n",
       "    'vectorString': 'CVSS:3.0/AV:L/AC:L/PR:L/UI:N/S:U/C:L/I:L/A:L',\n",
       "    'version': '3.0'},\n",
       "   'exploitabilityScore': 1.8,\n",
       "   'impactScore': 3.4}},\n",
       " 'lastModifiedDate': '2017-06-21T17:48Z',\n",
       " 'publishedDate': '2017-06-15T01:29Z'}"
      ]
     },
     "execution_count": 5,
     "metadata": {},
     "output_type": "execute_result"
    }
   ],
   "source": [
    "dataset2018.CVE_Items[200]"
   ]
  },
  {
   "cell_type": "code",
   "execution_count": 6,
   "metadata": {},
   "outputs": [
    {
     "data": {
      "text/plain": [
       "dict_keys(['cve', 'configurations', 'impact', 'publishedDate', 'lastModifiedDate'])"
      ]
     },
     "execution_count": 6,
     "metadata": {},
     "output_type": "execute_result"
    }
   ],
   "source": [
    "dataset2018.CVE_Items[200].keys()"
   ]
  },
  {
   "cell_type": "code",
   "execution_count": 15,
   "metadata": {},
   "outputs": [],
   "source": [
    "rev = []\n",
    "novals = []\n",
    "j=0\n",
    "for i in range(dataset2018.shape[0]):\n",
    "    new=dataset2018.CVE_Items[i]\n",
    "    if('baseMetricV2' in new['impact'].keys()):\n",
    "        var=new['impact']['baseMetricV2']['severity']\n",
    "        rev.append(var)\n",
    "    else:\n",
    "        rev.append('Not Exists')\n",
    "        novals.append(j)\n",
    "    j=j+1  "
   ]
  },
  {
   "cell_type": "code",
   "execution_count": 10,
   "metadata": {},
   "outputs": [],
   "source": [
    "rev=np.array(rev)"
   ]
  },
  {
   "cell_type": "code",
   "execution_count": 11,
   "metadata": {},
   "outputs": [
    {
     "data": {
      "text/plain": [
       "(13949,)"
      ]
     },
     "execution_count": 11,
     "metadata": {},
     "output_type": "execute_result"
    }
   ],
   "source": [
    "rev.shape"
   ]
  },
  {
   "cell_type": "code",
   "execution_count": 12,
   "metadata": {},
   "outputs": [],
   "source": [
    "num = 0\n",
    "val = []\n",
    "for i in range(rev.shape[0]):\n",
    "    if (rev[i] == 'Not Exists'):\n",
    "        num = num + 1\n",
    "        val.append(i)"
   ]
  },
  {
   "cell_type": "code",
   "execution_count": 13,
   "metadata": {},
   "outputs": [
    {
     "name": "stdout",
     "output_type": "stream",
     "text": [
      "1817\n"
     ]
    }
   ],
   "source": [
    "print(num)"
   ]
  },
  {
   "cell_type": "markdown",
   "metadata": {},
   "source": [
    "### so out of 13949 rows , 1817 doesn't have severity value in there "
   ]
  },
  {
   "cell_type": "markdown",
   "metadata": {},
   "source": [
    "### an example of row that doesn't has severity in there "
   ]
  },
  {
   "cell_type": "code",
   "execution_count": 17,
   "metadata": {},
   "outputs": [],
   "source": [
    "novals=np.array(novals)"
   ]
  },
  {
   "cell_type": "code",
   "execution_count": 18,
   "metadata": {},
   "outputs": [
    {
     "data": {
      "text/plain": [
       "(1817,)"
      ]
     },
     "execution_count": 18,
     "metadata": {},
     "output_type": "execute_result"
    }
   ],
   "source": [
    "novals.shape"
   ]
  },
  {
   "cell_type": "code",
   "execution_count": 19,
   "metadata": {},
   "outputs": [
    {
     "data": {
      "text/plain": [
       "330"
      ]
     },
     "execution_count": 19,
     "metadata": {},
     "output_type": "execute_result"
    }
   ],
   "source": [
    "novals[0]"
   ]
  },
  {
   "cell_type": "code",
   "execution_count": 23,
   "metadata": {},
   "outputs": [
    {
     "data": {
      "text/plain": [
       "{'configurations': {'CVE_data_version': '4.0', 'nodes': []},\n",
       " 'cve': {'CVE_data_meta': {'ASSIGNER': 'cve@mitre.org', 'ID': 'CVE-2017-0357'},\n",
       "  'affects': {'vendor': {'vendor_data': []}},\n",
       "  'data_format': 'MITRE',\n",
       "  'data_type': 'CVE',\n",
       "  'data_version': '4.0',\n",
       "  'description': {'description_data': [{'lang': 'en',\n",
       "     'value': 'A heap-overflow flaw exists in the -tr loader of iucode-tool starting with v1.4 and before v2.1.1, potentially leading to SIGSEGV, or heap corruption.'}]},\n",
       "  'problemtype': {'problemtype_data': [{'description': []}]},\n",
       "  'references': {'reference_data': [{'url': 'http://www.securityfocus.com/bid/95432'},\n",
       "    {'url': 'https://gitlab.com/iucode-tool/iucode-tool/issues/3'},\n",
       "    {'url': 'https://security-tracker.debian.org/tracker/CVE-2017-0357'}]}},\n",
       " 'impact': {},\n",
       " 'lastModifiedDate': '2018-04-16T09:58Z',\n",
       " 'publishedDate': '2018-04-13T15:29Z'}"
      ]
     },
     "execution_count": 23,
     "metadata": {},
     "output_type": "execute_result"
    }
   ],
   "source": [
    "dataset2018.CVE_Items[331]"
   ]
  },
  {
   "cell_type": "markdown",
   "metadata": {},
   "source": [
    "### above example has id CVE-2017-0356\n",
    "### it has the link https://nvd.nist.gov/vuln/detail/CVE-2017-0357"
   ]
  },
  {
   "cell_type": "markdown",
   "metadata": {},
   "source": [
    "# one can see that these are newly identified vulnerbalities that have not been put in the datafeeds "
   ]
  },
  {
   "cell_type": "code",
   "execution_count": null,
   "metadata": {},
   "outputs": [],
   "source": []
  }
 ],
 "metadata": {
  "kernelspec": {
   "display_name": "Python 3",
   "language": "python",
   "name": "python3"
  },
  "language_info": {
   "codemirror_mode": {
    "name": "ipython",
    "version": 3
   },
   "file_extension": ".py",
   "mimetype": "text/x-python",
   "name": "python",
   "nbconvert_exporter": "python",
   "pygments_lexer": "ipython3",
   "version": "3.6.4"
  }
 },
 "nbformat": 4,
 "nbformat_minor": 2
}
